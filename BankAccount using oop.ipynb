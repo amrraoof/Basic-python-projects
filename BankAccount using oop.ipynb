{
 "cells": [
  {
   "cell_type": "code",
   "execution_count": 14,
   "id": "4a8a6d75",
   "metadata": {},
   "outputs": [],
   "source": [
    "class BankAccount:\n",
    "    def __init__(self):\n",
    "        self.username = None\n",
    "        self.__password = 0\n",
    "        self.__National_id = 0\n",
    "        self.__Credit = 0\n",
    "        self.count1 = 0\n",
    "        self.count2 = 0\n",
    "        self.count3 = 0\n",
    "        self.count4 = 0\n",
    "        print(\"Hello, hope you well , please enter this information\")\n",
    "        self.takeinput()\n",
    "    def takeinput(self):\n",
    "        self.username = input(\"Please enter your name: \")\n",
    "        self.__password = int(input(\"Please enter your Password: \"))\n",
    "        self.__National_id = int(input(\"Please enter your national id: \"))\n",
    "        x = input(\"You want to deposite or withdraw(y/n)\")\n",
    "        if x == \"y\"or x==\"Y\" or x == \"Yes\" or x == \"yes\":\n",
    "            y = input(\"Deposite or Withdraw:(d,w) \")\n",
    "            if y == \"d\" or y == \"deposite\" or y == \"D\" or y == \"Deposite\": \n",
    "                self.AddDeposite()\n",
    "            elif y ==\"w\" or y ==\"withdraw\" or y ==\"W\" or y == \"Withdraw\":\n",
    "                self.withdraw()\n",
    "        else:\n",
    "            print(\"Thanks for using bank x\")\n",
    "        \n",
    "    def withdraw(self):\n",
    "        \n",
    "        PassTest1 = int(input(\"Please enter your password: \"))\n",
    "        if PassTest1 == self.__password:\n",
    "            \n",
    "            wammount = int(input(\"Please enter the ammount you wanna withdraw: \"))\n",
    "            if wammount < self.__Credit:\n",
    "                self.__Credit -= wammount\n",
    "            else:\n",
    "                Try=input(\"Your credit is not suuficient, do you wanna another try(y,n)\")\n",
    "                if Try ==\"y\" or Try ==\"yes\"or Try ==\"Y\" or Try ==\"Yes\":\n",
    "                    self.withdraw()\n",
    "                \n",
    "                else:\n",
    "                    print(\"Thanks for using bank x\")\n",
    "        else:\n",
    "            \n",
    "            if self.count1 <3:\n",
    "                self.count1 +=1\n",
    "                print(\"Wrong password, please enter the right password\")\n",
    "                self.withdraw()\n",
    "    \n",
    "    def AddDeposite(self):\n",
    "        PassTest2 = int(input(\"Please enter your password: \"))\n",
    "        if PassTest2 == self.__password:\n",
    "            \n",
    "            dammount = int(input(\"Please enter the money you wanna deposite\"))\n",
    "            self.__Credit+= dammount\n",
    "        \n",
    "        else:\n",
    "            if self.count2 <3:\n",
    "                self.count2 +=1\n",
    "                print(\"Wrong password, please enter the right password\")\n",
    "                self.AddDeposite()\n",
    "    def SetPassword(self):\n",
    "        NationalId = int(input(\"Please enter national id to identify your identity: \"))\n",
    "        if NationalId == self.__National_id:\n",
    "            self.__password = int(input(\"Please enter your the new password: \"))\n",
    "        \n",
    "        else:\n",
    "            if self.count3 < 3:\n",
    "                self.count3 +=1\n",
    "                print(\"Wrong id, please enter the right one\")\n",
    "                self.SetPassword()\n",
    "    \n",
    "    def GetCredit(self):\n",
    "        password = int(input(\"Please enter the password: \"))\n",
    "        if password == self.__password:\n",
    "            print(self.__Credit)\n",
    "        else:\n",
    "            if self.count4 <3:\n",
    "                self.count4 +=1\n",
    "                print(\"Wrong password please enter the right password:\")\n",
    "                self.GetCredit()\n",
    "        "
   ]
  },
  {
   "cell_type": "code",
   "execution_count": 15,
   "id": "4e8da656",
   "metadata": {},
   "outputs": [
    {
     "name": "stdout",
     "output_type": "stream",
     "text": [
      "Hello, hope you well , please enter this information\n",
      "Please enter your name: Amr\n",
      "Please enter your Password: 2272\n",
      "Please enter your national id: 208120\n",
      "You want to deposite or withdraw(y/n)y\n",
      "Deposite or Withdraw:(d,w) d\n",
      "Please enter your password: 2272\n",
      "Please enter the money you wanna deposite12000\n"
     ]
    }
   ],
   "source": [
    "amr = BankAccount()"
   ]
  },
  {
   "cell_type": "code",
   "execution_count": 16,
   "id": "f951deab",
   "metadata": {},
   "outputs": [
    {
     "name": "stdout",
     "output_type": "stream",
     "text": [
      "Please enter your password: 2272\n",
      "Please enter the ammount you wanna withdraw: 11500\n"
     ]
    }
   ],
   "source": [
    "amr.withdraw()"
   ]
  },
  {
   "cell_type": "code",
   "execution_count": 17,
   "id": "7a72cdf0",
   "metadata": {},
   "outputs": [
    {
     "name": "stdout",
     "output_type": "stream",
     "text": [
      "Please enter national id to identify your identity: 208120\n",
      "Please enter your the new password: 2273\n"
     ]
    }
   ],
   "source": [
    "amr.SetPassword()"
   ]
  },
  {
   "cell_type": "code",
   "execution_count": 18,
   "id": "93648063",
   "metadata": {},
   "outputs": [
    {
     "name": "stdout",
     "output_type": "stream",
     "text": [
      "Please enter the password: 2272\n",
      "Wrong password please enter the right password:\n",
      "Please enter the password: 2273\n",
      "500\n"
     ]
    }
   ],
   "source": [
    "amr.GetCredit()"
   ]
  },
  {
   "cell_type": "code",
   "execution_count": null,
   "id": "abc8b088",
   "metadata": {},
   "outputs": [],
   "source": []
  }
 ],
 "metadata": {
  "kernelspec": {
   "display_name": "Python 3 (ipykernel)",
   "language": "python",
   "name": "python3"
  },
  "language_info": {
   "codemirror_mode": {
    "name": "ipython",
    "version": 3
   },
   "file_extension": ".py",
   "mimetype": "text/x-python",
   "name": "python",
   "nbconvert_exporter": "python",
   "pygments_lexer": "ipython3",
   "version": "3.9.12"
  }
 },
 "nbformat": 4,
 "nbformat_minor": 5
}
