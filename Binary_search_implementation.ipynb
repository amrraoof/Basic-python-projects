{
 "cells": [
  {
   "cell_type": "code",
   "execution_count": 48,
   "id": "79ad969d",
   "metadata": {},
   "outputs": [],
   "source": [
    "# The first way \n",
    "def binary_search(cons_cards,cards,query): # you will enter the sam list twice every time\n",
    "   \n",
    "    cards.sort()\n",
    "    if len(cards) == 0:\n",
    "        return \"Empty list\"\n",
    "    elif query not in cards:\n",
    "        return \"The cards doesn't contain the required number\"\n",
    "    mid = (cards.index(max(cards))+cards.index(min(cards)))//2\n",
    "    \n",
    "    if query == cards[mid]:\n",
    "        \n",
    "        print(\"The index of the required card is: \")\n",
    "        return cons_cards.index(cards[mid])\n",
    "    \n",
    "    elif query < cards[mid]:\n",
    "        cards = cards[0:mid+1]\n",
    "        return binary_search(cons_cards,cards,query)\n",
    "    \n",
    "    elif query > cards[mid]:\n",
    "        cards = cards[mid:]\n",
    "        return binary_search(cons_cards,cards,query )\n",
    "    \n",
    "    # This way you can find the first element of the list that matches your query even if there are more than one element"
   ]
  },
  {
   "cell_type": "code",
   "execution_count": 49,
   "id": "c682119b",
   "metadata": {
    "scrolled": true
   },
   "outputs": [
    {
     "name": "stdout",
     "output_type": "stream",
     "text": [
      "3\n",
      "The index of the required card is: \n"
     ]
    },
    {
     "data": {
      "text/plain": [
       "3"
      ]
     },
     "execution_count": 49,
     "metadata": {},
     "output_type": "execute_result"
    }
   ],
   "source": [
    "l = [1,2,2,3,4,5,6,7,8,9,12]\n",
    "query = 3\n",
    "print(l.index(3))\n",
    "binary_search(l,l,query)\n"
   ]
  },
  {
   "cell_type": "code",
   "execution_count": 50,
   "id": "061a897f",
   "metadata": {},
   "outputs": [
    {
     "name": "stdout",
     "output_type": "stream",
     "text": [
      "The index of the required card is: \n"
     ]
    },
    {
     "data": {
      "text/plain": [
       "1268724"
      ]
     },
     "execution_count": 50,
     "metadata": {},
     "output_type": "execute_result"
    }
   ],
   "source": [
    "l = list(range(90000000))\n",
    "query = 1268724\n",
    "binary_search(l,l,query)"
   ]
  },
  {
   "cell_type": "code",
   "execution_count": 51,
   "id": "8011d695",
   "metadata": {},
   "outputs": [
    {
     "data": {
      "text/plain": [
       "\"The cards doesn't contain the required number\""
      ]
     },
     "execution_count": 51,
     "metadata": {},
     "output_type": "execute_result"
    }
   ],
   "source": [
    "query = -11\n",
    "binary_search(l,l,query)"
   ]
  },
  {
   "cell_type": "code",
   "execution_count": 53,
   "id": "a408c180",
   "metadata": {},
   "outputs": [
    {
     "data": {
      "text/plain": [
       "'Empty list'"
      ]
     },
     "execution_count": 53,
     "metadata": {},
     "output_type": "execute_result"
    }
   ],
   "source": [
    "l = []\n",
    "query = 1268724\n",
    "binary_search(l,l,query)"
   ]
  },
  {
   "cell_type": "code",
   "execution_count": 58,
   "id": "70724bbb",
   "metadata": {},
   "outputs": [],
   "source": [
    "#The second way\n",
    "# this one is faster because we used while loop instead of start the function from the begining\n",
    "\n",
    "def binary_search(cards,query):\n",
    "    low, high = 0,len(cards)-1\n",
    "    count = 0\n",
    "    while low <=high:\n",
    "        count+=1\n",
    "        mid = (low+high)//2\n",
    "        if cards[mid] == query:\n",
    "            print(f\"we used {count} tries to find the required card\\nThe required card index is: \")\n",
    "            return cards.index(cards[mid])\n",
    "        elif cards[mid] < query :\n",
    "            low = mid+1\n",
    "        elif cards[mid]> query :\n",
    "            high = mid-1\n",
    "\n",
    "    print(count)\n",
    "    return \"The card is not in the list\"\n",
    "    "
   ]
  },
  {
   "cell_type": "code",
   "execution_count": 64,
   "id": "191bd848",
   "metadata": {},
   "outputs": [
    {
     "name": "stdout",
     "output_type": "stream",
     "text": [
      "the real position is 3\n",
      "\n",
      "\n",
      "we used 3 tries to find the required card\n",
      "The required card index is: \n",
      "3\n"
     ]
    }
   ],
   "source": [
    "l = [1,2,2,3,3,4,5,6,7,8,9,12]\n",
    "query = 3\n",
    "print(f\"the real position is {l.index(3)}\\n\\n\")\n",
    "print(binary_search(l,query))"
   ]
  },
  {
   "cell_type": "code",
   "execution_count": 65,
   "id": "cd8417e9",
   "metadata": {
    "scrolled": true
   },
   "outputs": [
    {
     "name": "stdout",
     "output_type": "stream",
     "text": [
      "we used 22 tries to find the required card\n",
      "The required card index is: \n"
     ]
    },
    {
     "data": {
      "text/plain": [
       "1268724"
      ]
     },
     "execution_count": 65,
     "metadata": {},
     "output_type": "execute_result"
    }
   ],
   "source": [
    "l = list(range(90000000))\n",
    "query = 1268724\n",
    "binary_search(l,query)"
   ]
  },
  {
   "cell_type": "code",
   "execution_count": 66,
   "id": "c2844b7e",
   "metadata": {},
   "outputs": [
    {
     "name": "stdout",
     "output_type": "stream",
     "text": [
      "26\n"
     ]
    },
    {
     "data": {
      "text/plain": [
       "'The card is not in the list'"
      ]
     },
     "execution_count": 66,
     "metadata": {},
     "output_type": "execute_result"
    }
   ],
   "source": [
    "query = -11\n",
    "binary_search(l,query)"
   ]
  }
 ],
 "metadata": {
  "kernelspec": {
   "display_name": "Python 3 (ipykernel)",
   "language": "python",
   "name": "python3"
  },
  "language_info": {
   "codemirror_mode": {
    "name": "ipython",
    "version": 3
   },
   "file_extension": ".py",
   "mimetype": "text/x-python",
   "name": "python",
   "nbconvert_exporter": "python",
   "pygments_lexer": "ipython3",
   "version": "3.9.13"
  }
 },
 "nbformat": 4,
 "nbformat_minor": 5
}
