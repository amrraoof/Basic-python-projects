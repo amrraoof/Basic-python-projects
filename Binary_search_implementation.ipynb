{
 "cells": [
  {
   "cell_type": "markdown",
   "id": "22a0bd58",
   "metadata": {},
   "source": [
    "## Identifying the problem and stating the inputs and the outputs\n",
    "### It's required to find the position of a specific number in a list orederd in a decreasing order with the minimum number of tryings\n",
    "\n",
    "\n",
    "### Inputs:\n",
    "#### `cards`: is a list oredered in a decreasing order: `[13,10,9,8,7,5,4,2,1]`\n",
    "#### `query` : the required number: `7`\n",
    "\n",
    "### output:\n",
    "#### `position`:   The index of the required `query` in the `cards` : `4`"
   ]
  },
  {
   "cell_type": "code",
   "execution_count": 43,
   "id": "b18b70d5",
   "metadata": {},
   "outputs": [],
   "source": [
    "## function signnture\n",
    "def finding_card(cards,query):\n",
    "    pass\n",
    "\n"
   ]
  },
  {
   "cell_type": "code",
   "execution_count": 44,
   "id": "c691cad2",
   "metadata": {},
   "outputs": [],
   "source": [
    "# testing our function\n",
    "cards = [13,10,9,8,7,5,4,2,1]\n",
    "query = 7\n",
    "position = 4"
   ]
  },
  {
   "cell_type": "code",
   "execution_count": 45,
   "id": "16aeb994",
   "metadata": {},
   "outputs": [
    {
     "data": {
      "text/plain": [
       "False"
      ]
     },
     "execution_count": 45,
     "metadata": {},
     "output_type": "execute_result"
    }
   ],
   "source": [
    "result = finding_card(cards,query)\n",
    "result == position"
   ]
  },
  {
   "cell_type": "markdown",
   "id": "e8673f87",
   "metadata": {},
   "source": [
    "## different cases of this problem\n",
    "### 1.`query` is the last element\n",
    "### 2.`query` is the first element\n",
    "### 3.`query` is in somewhere in the middle of thelist\n",
    "### 4. list is one element which is the `query`\n",
    "### 5-There are repeated number in the list\n",
    "### 6-There is more than one value of the `query` in the list\n",
    "### 7-The list is empty\n",
    "### 8-The list doesn't contain the query\n",
    "### 9- `query` is exactly at the middle of the list\n",
    "###\n",
    "\n",
    "\n"
   ]
  },
  {
   "cell_type": "code",
   "execution_count": 46,
   "id": "ac22a190",
   "metadata": {},
   "outputs": [],
   "source": [
    "tests= []\n",
    "#1. query last\n",
    "tests.append({\n",
    "    \"inputs\":{\n",
    "        \"cards\": [18,17,15,13,10,5,4,2,1],\n",
    "        \"query\" : 1\n",
    "    },\n",
    "    \"output\" : 8\n",
    "}\n",
    "\n",
    ")"
   ]
  },
  {
   "cell_type": "code",
   "execution_count": 47,
   "id": "8bde5156",
   "metadata": {},
   "outputs": [],
   "source": [
    "#2. query first\n",
    "tests.append({\n",
    "    \"inputs\":{\n",
    "        \"cards\": [18,17,15,13,10,5,4,2,1],\n",
    "        \"query\" : 18\n",
    "    },\n",
    "    \"output\" : 0\n",
    "}\n",
    "\n",
    ")"
   ]
  },
  {
   "cell_type": "code",
   "execution_count": 48,
   "id": "d99dced4",
   "metadata": {},
   "outputs": [],
   "source": [
    "#3. somewhere in the list\n",
    "tests.append({\n",
    "    \"inputs\":{\n",
    "        \"cards\": [18,17,15,13,10,5,4,2,1],\n",
    "        \"query\" : 2\n",
    "    },\n",
    "    \"output\" : 7\n",
    "}\n",
    "\n",
    ")"
   ]
  },
  {
   "cell_type": "code",
   "execution_count": 49,
   "id": "71fd118e",
   "metadata": {},
   "outputs": [],
   "source": [
    "#4. list is only the query\n",
    "tests.append({\n",
    "    \"inputs\":{\n",
    "        \"cards\": [18],\n",
    "        \"query\" : 18\n",
    "    },\n",
    "    \"output\" : 0\n",
    "}\n",
    "\n",
    ")"
   ]
  },
  {
   "cell_type": "code",
   "execution_count": 50,
   "id": "1c0ca858",
   "metadata": {},
   "outputs": [],
   "source": [
    "#5. list contains repeated numbers\n",
    "tests.append({\n",
    "    \"inputs\":{\n",
    "        \"cards\": [18,17,17,15,15,15,13,10,5,4,2,1],\n",
    "        \"query\" : 1\n",
    "    },\n",
    "    \"output\" : 11\n",
    "}\n",
    "\n",
    ")"
   ]
  },
  {
   "cell_type": "code",
   "execution_count": 51,
   "id": "c4a199aa",
   "metadata": {},
   "outputs": [],
   "source": [
    "#6. list contains more than one value of the query\n",
    "# query last\n",
    "tests.append({\n",
    "    \"inputs\":{\n",
    "        \"cards\": [8, 8, 6, 6, 6, 6, 6, 3, 2, 2, 2, 0, 0, 0],\n",
    "        \"query\" : 6\n",
    "    },\n",
    "    \"output\" : 2\n",
    "}\n",
    "\n",
    ")"
   ]
  },
  {
   "cell_type": "code",
   "execution_count": 52,
   "id": "0302619b",
   "metadata": {},
   "outputs": [],
   "source": [
    "#7. list is empty\n",
    "# query last\n",
    "tests.append({\n",
    "    \"inputs\":{\n",
    "        \"cards\": [],\n",
    "        \"query\" : 1\n",
    "    },\n",
    "    \"output\" : -1\n",
    "}\n",
    "\n",
    ")"
   ]
  },
  {
   "cell_type": "code",
   "execution_count": 53,
   "id": "077a9180",
   "metadata": {},
   "outputs": [],
   "source": [
    "#8. query is not in the list\n",
    "tests.append({\n",
    "    \"inputs\":{\n",
    "        \"cards\": [18,17,15,13,10,5,4,2],\n",
    "        \"query\" : 1\n",
    "    },\n",
    "    \"output\" : -1\n",
    "}\n",
    "\n",
    ")"
   ]
  },
  {
   "cell_type": "code",
   "execution_count": 54,
   "id": "1c0b4422",
   "metadata": {},
   "outputs": [],
   "source": [
    "#9. query is ecactly at the middle\n",
    "tests.append({\n",
    "    \"inputs\":{\n",
    "        \"cards\": [18,17,15,13,10,5,4,2,1],\n",
    "        \"query\" : 10\n",
    "    },\n",
    "    \"output\" : 4\n",
    "}\n",
    "\n",
    ")"
   ]
  },
  {
   "cell_type": "code",
   "execution_count": 55,
   "id": "795e49cc",
   "metadata": {},
   "outputs": [],
   "source": [
    "def finding_card(cards,query):\n",
    "    \n",
    "    low,high = 0,len(cards)-1\n",
    "    while low <= high:\n",
    "        mid = (low+high)//2\n",
    "        if cards[mid] == query:\n",
    "            return mid\n",
    "        elif cards[mid] > query:\n",
    "            low = mid+1\n",
    "        elif cards[mid] < query:\n",
    "            high= mid-1\n",
    "    return -1"
   ]
  },
  {
   "cell_type": "code",
   "execution_count": 56,
   "id": "ee161016",
   "metadata": {},
   "outputs": [
    {
     "name": "stdout",
     "output_type": "stream",
     "text": [
      "Case 1 is O.K \n",
      "query is 1 , the required position is 8 the produced position is 8 \n",
      "Case 2 is O.K \n",
      "query is 18 , the required position is 0 the produced position is 0 \n",
      "Case 3 is O.K \n",
      "query is 2 , the required position is 7 the produced position is 7 \n",
      "Case 4 is O.K \n",
      "query is 18 , the required position is 0 the produced position is 0 \n",
      "Case 5 is O.K \n",
      "query is 1 , the required position is 11 the produced position is 11 \n",
      "\n",
      "\n",
      "case 6 is wrong\n",
      "query is 6 , the required position is 2 the produced position is 6\n",
      "\n",
      "\n",
      "\n",
      "Case 7 is O.K \n",
      "query is 1 , the required position is -1 the produced position is -1 \n",
      "Case 8 is O.K \n",
      "query is 1 , the required position is -1 the produced position is -1 \n",
      "Case 9 is O.K \n",
      "query is 10 , the required position is 4 the produced position is 4 \n"
     ]
    }
   ],
   "source": [
    "# testing the function\n",
    "count = 0\n",
    "for i in tests:\n",
    "    query = i[\"inputs\"][\"query\"]\n",
    "    output = i[\"output\"]\n",
    "    count+=1\n",
    "    result = finding_card(i[\"inputs\"][\"cards\"],i[\"inputs\"][\"query\"])\n",
    "    if result == output:\n",
    "        print(f\"Case {count} is O.K \")\n",
    "        print(f\"query is {query} , the required position is {output} the produced position is {result} \")\n",
    "    else:\n",
    "        \n",
    "        print(f\"\\n\\ncase {count} is wrong\")\n",
    "        print(f\"query is {query} , the required position is {output} the produced position is {result}\\n\\n\\n\")\n",
    "    "
   ]
  },
  {
   "cell_type": "markdown",
   "id": "76300aab",
   "metadata": {},
   "source": [
    "## There is a problem in case 6 because the putput is not the required one\n",
    "## Let's try to solve this problem"
   ]
  },
  {
   "cell_type": "code",
   "execution_count": 57,
   "id": "8bd7152f",
   "metadata": {},
   "outputs": [],
   "source": [
    "# we should make a function to check if this position is the accurate pos\n",
    "\n",
    "def finding_first_element(cards,pos):\n",
    "    while pos!=0:\n",
    "        if cards[pos]==cards[pos-1]:\n",
    "            pos-=1\n",
    "        else:\n",
    "            return pos\n",
    "    else:\n",
    "        return pos\n",
    "    \n",
    "\n",
    "def finding_card(cards,query):\n",
    "    \n",
    "    low,high = 0,len(cards)-1\n",
    "    while low <= high:\n",
    "        mid = (low+high)//2\n",
    "        \n",
    "        if cards[mid] == query: \n",
    "            if mid!=0 and cards[mid] == cards[mid-1]: \n",
    "                return finding_first_element(cards,mid)\n",
    "            else:\n",
    "                return mid\n",
    "        \n",
    "        elif cards[mid] > query:\n",
    "            low = mid+1\n",
    "        \n",
    "        elif cards[mid] < query:\n",
    "            high= mid-1\n",
    "    return -1"
   ]
  },
  {
   "cell_type": "code",
   "execution_count": 58,
   "id": "1c332298",
   "metadata": {},
   "outputs": [
    {
     "name": "stdout",
     "output_type": "stream",
     "text": [
      "Case 1 is O.K \n",
      "query is 1 , the required position is 8 the produced position is 8 \n",
      "Case 2 is O.K \n",
      "query is 18 , the required position is 0 the produced position is 0 \n",
      "Case 3 is O.K \n",
      "query is 2 , the required position is 7 the produced position is 7 \n",
      "Case 4 is O.K \n",
      "query is 18 , the required position is 0 the produced position is 0 \n",
      "Case 5 is O.K \n",
      "query is 1 , the required position is 11 the produced position is 11 \n",
      "Case 6 is O.K \n",
      "query is 6 , the required position is 2 the produced position is 2 \n",
      "Case 7 is O.K \n",
      "query is 1 , the required position is -1 the produced position is -1 \n",
      "Case 8 is O.K \n",
      "query is 1 , the required position is -1 the produced position is -1 \n",
      "Case 9 is O.K \n",
      "query is 10 , the required position is 4 the produced position is 4 \n"
     ]
    }
   ],
   "source": [
    "# testing the function\n",
    "\n",
    "count = 0\n",
    "for i in tests:\n",
    "    query = i[\"inputs\"][\"query\"]\n",
    "    output = i[\"output\"]\n",
    "    count+=1\n",
    "    result = finding_card(i[\"inputs\"][\"cards\"],i[\"inputs\"][\"query\"])\n",
    "    if result == output:\n",
    "        print(f\"Case {count} is O.K \")\n",
    "        print(f\"query is {query} , the required position is {output} the produced position is {result} \")\n",
    "    else:\n",
    "        \n",
    "        print(f\"\\n\\ncase {count} is wrong\")\n",
    "        print(f\"query is {query} , the required position is {output} the produced position is {result}\\n\\n\\n\")\n",
    "    "
   ]
  },
  {
   "cell_type": "markdown",
   "id": "fa943853",
   "metadata": {},
   "source": [
    "# The problem is solved in here"
   ]
  },
  {
   "cell_type": "markdown",
   "id": "f15e7077",
   "metadata": {},
   "source": [
    "# Analyzing our Algorithm\n",
    "### the list we took had `n` elements  for each iteration n was reduced by have `n`/2. \n",
    "### The last iteraton would have 1 element.\n",
    "### As we iterate `n` decreased in have and we didn't know how many iteration there would be lets assume it is `k`.\n",
    "### So the last iterarton would be `n`/2^`k` so `n`/2^`k` = 1 ---> `n` = 2^`k` ---> log(`n`) = log(2^`k`) ---> log(`n`) = `k` .\n",
    "### So time complexity will be O(log(`n`))."
   ]
  },
  {
   "cell_type": "markdown",
   "id": "062d5bc3",
   "metadata": {},
   "source": [
    "## What if you are given 2 numbers in decreasing order to find another number between them"
   ]
  },
  {
   "cell_type": "code",
   "execution_count": 59,
   "id": "dfbb59e4",
   "metadata": {},
   "outputs": [],
   "source": [
    "def finding_first_element(cards,pos):\n",
    "    while pos!=0:\n",
    "        if cards[pos]==cards[pos-1]:\n",
    "            pos-=1\n",
    "        else:\n",
    "            return pos\n",
    "    else:\n",
    "        return pos\n",
    "    \n",
    "\n",
    "def finding_card(hi,lo,query):\n",
    "    cards = list(range(hi,lo-1,-1))\n",
    "    low, high = 0,len(cards)-1\n",
    "    \n",
    "    while low <= high:\n",
    "        mid = (low+high)//2\n",
    "        \n",
    "        if cards[mid] == query: \n",
    "            if mid!=0 and cards[mid] == cards[mid-1]: \n",
    "                return finding_first_element(cards,mid)\n",
    "            else:\n",
    "                return mid\n",
    "        \n",
    "        elif cards[mid] > query:\n",
    "            low = mid+1\n",
    "        \n",
    "        elif cards[mid] < query:\n",
    "            high= mid-1\n",
    "    print(cards)\n",
    "    print(low)\n",
    "    print(high)\n",
    "    return -1"
   ]
  },
  {
   "cell_type": "code",
   "execution_count": 60,
   "id": "7b912cbc",
   "metadata": {},
   "outputs": [
    {
     "name": "stdout",
     "output_type": "stream",
     "text": [
      "18118\n",
      "18118\n"
     ]
    }
   ],
   "source": [
    "print(finding_card(20753,1,2635))\n",
    "\n",
    "lst = list(range(20753,0,-1))\n",
    "print(lst.index(2635))"
   ]
  },
  {
   "cell_type": "markdown",
   "id": "9735e2f8",
   "metadata": {},
   "source": [
    "## So this way looks right"
   ]
  },
  {
   "cell_type": "markdown",
   "id": "fa0892d1",
   "metadata": {},
   "source": [
    "## What if we have a list in increasing order"
   ]
  },
  {
   "cell_type": "code",
   "execution_count": 61,
   "id": "58cc6ad7",
   "metadata": {},
   "outputs": [],
   "source": [
    "def finding_first_element(cards,pos):\n",
    "    while pos!=0:\n",
    "        if cards[pos]==cards[pos-1]:\n",
    "            pos-=1\n",
    "        else:\n",
    "            return pos\n",
    "    else:\n",
    "        return pos\n",
    "def finding_card_increasing(cards,query):\n",
    "    \n",
    "    low,high = 0,len(cards)-1\n",
    "    while low <= high:\n",
    "        mid = (low+high)//2\n",
    "        if cards[mid] == query:  \n",
    "            if mid!=0 and cards[mid] == cards[mid-1]: \n",
    "                return finding_first_element(cards,mid)\n",
    "            else:\n",
    "                return mid\n",
    "        elif cards[mid] > query:\n",
    "            high = mid-1\n",
    "        elif cards[mid] < query:\n",
    "            low= mid+1\n",
    "    return -1"
   ]
  },
  {
   "cell_type": "code",
   "execution_count": 62,
   "id": "ca3e2e70",
   "metadata": {},
   "outputs": [
    {
     "data": {
      "text/plain": [
       "523986"
      ]
     },
     "execution_count": 62,
     "metadata": {},
     "output_type": "execute_result"
    }
   ],
   "source": [
    "finding_card_increasing(list(range(1000000)),523986)"
   ]
  },
  {
   "cell_type": "markdown",
   "id": "2f5fc90b",
   "metadata": {},
   "source": [
    "## What if we want the last and the first occurance of a particular number\n",
    "\n"
   ]
  },
  {
   "cell_type": "code",
   "execution_count": 63,
   "id": "552222d1",
   "metadata": {},
   "outputs": [],
   "source": [
    "def end_position(cards,pos):\n",
    "    while True:\n",
    "        if cards[pos]==cards[pos+1]:\n",
    "            pos+=1\n",
    "        else:\n",
    "            return pos\n",
    "        \n",
    "        \n",
    "def finding_first_element(cards,pos):\n",
    "    while pos!=0:\n",
    "        if cards[pos]==cards[pos-1]:\n",
    "            pos-=1\n",
    "        else:\n",
    "            return pos\n",
    "    else:\n",
    "        return pos\n",
    "    \n",
    "    \n",
    "def finding_end_start_card(cards,query):\n",
    "    out_list = []\n",
    "    low,high = 0,len(cards)-1\n",
    "    while low <= high:\n",
    "        mid = (low+high)//2\n",
    "        if cards[mid] == query:  \n",
    "            if mid!=0 and cards[mid] == cards[mid-1]: \n",
    "                \n",
    "                return [finding_first_element(cards,mid),end_position(cards,mid)]\n",
    "            else:\n",
    "                return [mid,end_position(cards,mid)]\n",
    "        elif cards[mid] > query:\n",
    "            high = mid-1\n",
    "        elif cards[mid] < query:\n",
    "            low= mid+1\n",
    "    return [-1,-1]"
   ]
  },
  {
   "cell_type": "markdown",
   "id": "7517f930",
   "metadata": {},
   "source": [
    "### lst = [1,2,3,5,5,5,5,5,5,5,5,5,5,5,5,10,18,32,97]\n",
    "### so the answer must be[3,14]"
   ]
  },
  {
   "cell_type": "code",
   "execution_count": 64,
   "id": "76882f81",
   "metadata": {},
   "outputs": [
    {
     "data": {
      "text/plain": [
       "[3, 14]"
      ]
     },
     "execution_count": 64,
     "metadata": {},
     "output_type": "execute_result"
    }
   ],
   "source": [
    "lst = [1,2,3,5,5,5,5,5,5,5,5,5,5,5,5,10,18,32,97]\n",
    "finding_end_start_card(lst,5)"
   ]
  },
  {
   "cell_type": "code",
   "execution_count": null,
   "id": "9ebcbb50",
   "metadata": {},
   "outputs": [],
   "source": []
  }
 ],
 "metadata": {
  "kernelspec": {
   "display_name": "Python 3 (ipykernel)",
   "language": "python",
   "name": "python3"
  },
  "language_info": {
   "codemirror_mode": {
    "name": "ipython",
    "version": 3
   },
   "file_extension": ".py",
   "mimetype": "text/x-python",
   "name": "python",
   "nbconvert_exporter": "python",
   "pygments_lexer": "ipython3",
   "version": "3.9.13"
  }
 },
 "nbformat": 4,
 "nbformat_minor": 5
}
