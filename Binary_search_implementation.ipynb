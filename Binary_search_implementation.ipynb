{
 "cells": [
  {
   "cell_type": "markdown",
   "id": "22a0bd58",
   "metadata": {},
   "source": [
    "## Identifying the problem and stating the inputs and the outputs\n",
    "### It's required to find the position of a specific number in a list orederd in a decreasing order with the minimum number of tryings\n",
    "\n",
    "\n",
    "### Inputs:\n",
    "#### `cards`: is al list oredered in a decreasing order: `[13,10,9,8,7,5,4,2,1]`\n",
    "#### `query` : the required number: `7`\n",
    "\n",
    "### output:\n",
    "#### `position`:   The index of the required `query` in the `cards` : `4`"
   ]
  },
  {
   "cell_type": "code",
   "execution_count": 1,
   "id": "b18b70d5",
   "metadata": {},
   "outputs": [],
   "source": [
    "## function signnture\n",
    "def finding_card(cards,query):\n",
    "    pass\n",
    "\n"
   ]
  },
  {
   "cell_type": "code",
   "execution_count": 2,
   "id": "c691cad2",
   "metadata": {},
   "outputs": [],
   "source": [
    "# testing our function\n",
    "cards = [13,10,9,8,7,5,4,2,1]\n",
    "query = 7\n",
    "position = 4"
   ]
  },
  {
   "cell_type": "code",
   "execution_count": 3,
   "id": "16aeb994",
   "metadata": {},
   "outputs": [
    {
     "data": {
      "text/plain": [
       "False"
      ]
     },
     "execution_count": 3,
     "metadata": {},
     "output_type": "execute_result"
    }
   ],
   "source": [
    "result = finding_card(cards,query)\n",
    "result == position"
   ]
  },
  {
   "cell_type": "markdown",
   "id": "e8673f87",
   "metadata": {},
   "source": [
    "## different cases of this problem\n",
    "### 1.`query` is the last element\n",
    "### 2.`query` is the first element\n",
    "### 3.`query` is in somewhere in the middle of thelist\n",
    "### 4. list is one element which is the `query`\n",
    "### 5-There are repeated number in the list\n",
    "### 6-There is more than one value of the `query` in the list\n",
    "### 7-The list is empty\n",
    "### 8-The list doesn't contain the query\n",
    "\n",
    "\n"
   ]
  },
  {
   "cell_type": "code",
   "execution_count": 18,
   "id": "ac22a190",
   "metadata": {},
   "outputs": [],
   "source": [
    "tests= []\n",
    "#1. query last\n",
    "tests.append({\n",
    "    \"inputs\":{\n",
    "        \"cards\": [18,17,15,13,10,5,4,2,1],\n",
    "        \"query\" : 1\n",
    "    },\n",
    "    \"output\" : 8\n",
    "}\n",
    "\n",
    ")"
   ]
  },
  {
   "cell_type": "code",
   "execution_count": 19,
   "id": "8bde5156",
   "metadata": {},
   "outputs": [],
   "source": [
    "#2. query first\n",
    "tests.append({\n",
    "    \"inputs\":{\n",
    "        \"cards\": [18,17,15,13,10,5,4,2,1],\n",
    "        \"query\" : 18\n",
    "    },\n",
    "    \"output\" : 0\n",
    "}\n",
    "\n",
    ")"
   ]
  },
  {
   "cell_type": "code",
   "execution_count": 20,
   "id": "d99dced4",
   "metadata": {},
   "outputs": [],
   "source": [
    "#3. somewhere in the list\n",
    "tests.append({\n",
    "    \"inputs\":{\n",
    "        \"cards\": [18,17,15,13,10,5,4,2,1],\n",
    "        \"query\" : 2\n",
    "    },\n",
    "    \"output\" : 7\n",
    "}\n",
    "\n",
    ")"
   ]
  },
  {
   "cell_type": "code",
   "execution_count": 21,
   "id": "71fd118e",
   "metadata": {},
   "outputs": [],
   "source": [
    "#4. list is only the query\n",
    "tests.append({\n",
    "    \"inputs\":{\n",
    "        \"cards\": [18],\n",
    "        \"query\" : 18\n",
    "    },\n",
    "    \"output\" : 0\n",
    "}\n",
    "\n",
    ")"
   ]
  },
  {
   "cell_type": "code",
   "execution_count": 22,
   "id": "1c0ca858",
   "metadata": {},
   "outputs": [],
   "source": [
    "#5. list contains repeated numbers\n",
    "tests.append({\n",
    "    \"inputs\":{\n",
    "        \"cards\": [18,17,17,15,15,15,13,10,5,4,2,1],\n",
    "        \"query\" : 1\n",
    "    },\n",
    "    \"output\" : 11\n",
    "}\n",
    "\n",
    ")"
   ]
  },
  {
   "cell_type": "code",
   "execution_count": 23,
   "id": "c4a199aa",
   "metadata": {},
   "outputs": [],
   "source": [
    "#6. list contains more than one value of the query\n",
    "# query last\n",
    "tests.append({\n",
    "    \"inputs\":{\n",
    "        \"cards\": [8, 8, 6, 6, 6, 6, 6, 3, 2, 2, 2, 0, 0, 0],\n",
    "        \"query\" : 6\n",
    "    },\n",
    "    \"output\" : 2\n",
    "}\n",
    "\n",
    ")"
   ]
  },
  {
   "cell_type": "code",
   "execution_count": 24,
   "id": "0302619b",
   "metadata": {},
   "outputs": [],
   "source": [
    "#7. list is empty\n",
    "# query last\n",
    "tests.append({\n",
    "    \"inputs\":{\n",
    "        \"cards\": [],\n",
    "        \"query\" : 1\n",
    "    },\n",
    "    \"output\" : -1\n",
    "}\n",
    "\n",
    ")"
   ]
  },
  {
   "cell_type": "code",
   "execution_count": 25,
   "id": "077a9180",
   "metadata": {},
   "outputs": [],
   "source": [
    "#8. query is not in the list\n",
    "tests.append({\n",
    "    \"inputs\":{\n",
    "        \"cards\": [18,17,15,13,10,5,4,2],\n",
    "        \"query\" : 1\n",
    "    },\n",
    "    \"output\" : -1\n",
    "}\n",
    "\n",
    ")"
   ]
  },
  {
   "cell_type": "code",
   "execution_count": 31,
   "id": "795e49cc",
   "metadata": {},
   "outputs": [],
   "source": [
    "def finding_card(cards,query):\n",
    "    \n",
    "    low,high = 0,len(cards)-1\n",
    "    while low <= high:\n",
    "        mid = (low+high)//2\n",
    "        if cards[mid] == query:\n",
    "            return mid\n",
    "        elif cards[mid] > query:\n",
    "            low = mid+1\n",
    "        elif cards[mid] < query:\n",
    "            high= mid-1\n",
    "    return -1"
   ]
  },
  {
   "cell_type": "code",
   "execution_count": 32,
   "id": "ee161016",
   "metadata": {},
   "outputs": [
    {
     "name": "stdout",
     "output_type": "stream",
     "text": [
      "Case 1 is O.K \n",
      "query is 1 , the required position is 8 the produced position is 8 \n",
      "Case 2 is O.K \n",
      "query is 18 , the required position is 0 the produced position is 0 \n",
      "Case 3 is O.K \n",
      "query is 2 , the required position is 7 the produced position is 7 \n",
      "Case 4 is O.K \n",
      "query is 18 , the required position is 0 the produced position is 0 \n",
      "Case 5 is O.K \n",
      "query is 1 , the required position is 11 the produced position is 11 \n",
      "\n",
      "\n",
      "case 6 is wrong\n",
      "query is 6 , the required position is 2 the produced position is 6\n",
      "\n",
      "\n",
      "\n",
      "Case 7 is O.K \n",
      "query is 1 , the required position is -1 the produced position is -1 \n",
      "Case 8 is O.K \n",
      "query is 1 , the required position is -1 the produced position is -1 \n"
     ]
    }
   ],
   "source": [
    "# testing the function\n",
    "count = 0\n",
    "for i in tests:\n",
    "    query = i[\"inputs\"][\"query\"]\n",
    "    output = i[\"output\"]\n",
    "    count+=1\n",
    "    result = finding_card(i[\"inputs\"][\"cards\"],i[\"inputs\"][\"query\"])\n",
    "    if result == output:\n",
    "        print(f\"Case {count} is O.K \")\n",
    "        print(f\"query is {query} , the required position is {output} the produced position is {result} \")\n",
    "    else:\n",
    "        \n",
    "        print(f\"\\n\\ncase {count} is wrong\")\n",
    "        print(f\"query is {query} , the required position is {output} the produced position is {result}\\n\\n\\n\")\n",
    "    "
   ]
  },
  {
   "cell_type": "markdown",
   "id": "76300aab",
   "metadata": {},
   "source": [
    "## There is a problem in case 6 because the putput is not the required one\n",
    "## Let's try to solve this problem"
   ]
  },
  {
   "cell_type": "code",
   "execution_count": 33,
   "id": "8bd7152f",
   "metadata": {},
   "outputs": [],
   "source": [
    "def finding_card(cards,query):\n",
    "    \n",
    "    low,high = 0,len(cards)-1\n",
    "    while low <= high:\n",
    "        mid = (low+high)//2\n",
    "        if cards[mid] == query:\n",
    "            return cards.index(cards[mid])\n",
    "        elif cards[mid] > query:\n",
    "            low = mid+1\n",
    "        elif cards[mid] < query:\n",
    "            high= mid-1\n",
    "    return -1"
   ]
  },
  {
   "cell_type": "code",
   "execution_count": 34,
   "id": "1c332298",
   "metadata": {},
   "outputs": [
    {
     "name": "stdout",
     "output_type": "stream",
     "text": [
      "Case 1 is O.K \n",
      "query is 1 , the required position is 8 the produced position is 8 \n",
      "Case 2 is O.K \n",
      "query is 18 , the required position is 0 the produced position is 0 \n",
      "Case 3 is O.K \n",
      "query is 2 , the required position is 7 the produced position is 7 \n",
      "Case 4 is O.K \n",
      "query is 18 , the required position is 0 the produced position is 0 \n",
      "Case 5 is O.K \n",
      "query is 1 , the required position is 11 the produced position is 11 \n",
      "Case 6 is O.K \n",
      "query is 6 , the required position is 2 the produced position is 2 \n",
      "Case 7 is O.K \n",
      "query is 1 , the required position is -1 the produced position is -1 \n",
      "Case 8 is O.K \n",
      "query is 1 , the required position is -1 the produced position is -1 \n"
     ]
    }
   ],
   "source": [
    "# testing the function\n",
    "count = 0\n",
    "for i in tests:\n",
    "    query = i[\"inputs\"][\"query\"]\n",
    "    output = i[\"output\"]\n",
    "    count+=1\n",
    "    result = finding_card(i[\"inputs\"][\"cards\"],i[\"inputs\"][\"query\"])\n",
    "    if result == output:\n",
    "        print(f\"Case {count} is O.K \")\n",
    "        print(f\"query is {query} , the required position is {output} the produced position is {result} \")\n",
    "    else:\n",
    "        \n",
    "        print(f\"\\n\\ncase {count} is wrong\")\n",
    "        print(f\"query is {query} , the required position is {output} the produced position is {result}\\n\\n\\n\")\n",
    "    "
   ]
  },
  {
   "cell_type": "markdown",
   "id": "fa943853",
   "metadata": {},
   "source": [
    "# The problem is solved in here"
   ]
  }
 ],
 "metadata": {
  "kernelspec": {
   "display_name": "Python 3 (ipykernel)",
   "language": "python",
   "name": "python3"
  },
  "language_info": {
   "codemirror_mode": {
    "name": "ipython",
    "version": 3
   },
   "file_extension": ".py",
   "mimetype": "text/x-python",
   "name": "python",
   "nbconvert_exporter": "python",
   "pygments_lexer": "ipython3",
   "version": "3.9.13"
  }
 },
 "nbformat": 4,
 "nbformat_minor": 5
}
