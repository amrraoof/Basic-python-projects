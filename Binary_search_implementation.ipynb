{
 "cells": [
  {
   "cell_type": "code",
   "execution_count": 26,
   "id": "79ad969d",
   "metadata": {},
   "outputs": [],
   "source": [
    "# The first way \n",
    "def binary_search(cards,query):\n",
    "    if len(cards) == 0:\n",
    "        return \"Empty list\"\n",
    "    elif query not in cards:\n",
    "        return \"The cards doesn't contain the required number\"\n",
    "    mid = (cards.index(max(cards))+cards.index(min(cards)))//2\n",
    "    \n",
    "    if query == cards[mid]:\n",
    "        return cards[mid]\n",
    "    \n",
    "    elif query < cards[mid]:\n",
    "        cards = cards[0:mid+1]\n",
    "        return binary_search(cards,query)\n",
    "    \n",
    "    elif query > cards[mid]:\n",
    "        cards = cards[mid:]\n",
    "        return binary_search(cards,query )"
   ]
  },
  {
   "cell_type": "code",
   "execution_count": 27,
   "id": "c682119b",
   "metadata": {
    "scrolled": true
   },
   "outputs": [
    {
     "data": {
      "text/plain": [
       "1268724"
      ]
     },
     "execution_count": 27,
     "metadata": {},
     "output_type": "execute_result"
    }
   ],
   "source": [
    "l = list(range(90000000))\n",
    "query = 1268724\n",
    "binary_search(l,query)"
   ]
  },
  {
   "cell_type": "code",
   "execution_count": 28,
   "id": "8011d695",
   "metadata": {},
   "outputs": [
    {
     "data": {
      "text/plain": [
       "\"The cards doesn't contain the required number\""
      ]
     },
     "execution_count": 28,
     "metadata": {},
     "output_type": "execute_result"
    }
   ],
   "source": [
    "query = -11\n",
    "binary_search(l,query)"
   ]
  },
  {
   "cell_type": "code",
   "execution_count": 29,
   "id": "a408c180",
   "metadata": {},
   "outputs": [
    {
     "data": {
      "text/plain": [
       "'Empty list'"
      ]
     },
     "execution_count": 29,
     "metadata": {},
     "output_type": "execute_result"
    }
   ],
   "source": [
    "l = []\n",
    "query = 1268724\n",
    "binary_search(l,query)"
   ]
  },
  {
   "cell_type": "code",
   "execution_count": 30,
   "id": "70724bbb",
   "metadata": {},
   "outputs": [],
   "source": [
    "#The second way\n",
    "# this one is faster because we used while loop instead of start the function from the begining\n",
    "\n",
    "def binary_search(cards,query):\n",
    "    low, high = 0,len(cards)-1\n",
    "    count = 0\n",
    "    while low <=high:\n",
    "        count+=1\n",
    "        mid = (low+high)//2\n",
    "        if cards[mid] == query:\n",
    "            print(count)\n",
    "            return cards[mid]\n",
    "        elif cards[mid] < query :\n",
    "            low = mid+1\n",
    "        elif cards[mid]> query :\n",
    "            high = mid-1\n",
    "\n",
    "    print(count)\n",
    "    return \"The card is not in the list\"\n",
    "    "
   ]
  },
  {
   "cell_type": "code",
   "execution_count": 32,
   "id": "cd8417e9",
   "metadata": {
    "scrolled": true
   },
   "outputs": [
    {
     "name": "stdout",
     "output_type": "stream",
     "text": [
      "22\n"
     ]
    },
    {
     "data": {
      "text/plain": [
       "1268724"
      ]
     },
     "execution_count": 32,
     "metadata": {},
     "output_type": "execute_result"
    }
   ],
   "source": [
    "l = list(range(90000000))\n",
    "query = 1268724\n",
    "binary_search(l,query)"
   ]
  },
  {
   "cell_type": "code",
   "execution_count": 17,
   "id": "c2844b7e",
   "metadata": {},
   "outputs": [
    {
     "name": "stdout",
     "output_type": "stream",
     "text": [
      "23\n"
     ]
    },
    {
     "data": {
      "text/plain": [
       "'The card is not in the list'"
      ]
     },
     "execution_count": 17,
     "metadata": {},
     "output_type": "execute_result"
    }
   ],
   "source": [
    "query = -11\n",
    "binary_search(l,query)"
   ]
  },
  {
   "cell_type": "code",
   "execution_count": null,
   "id": "3de8954f",
   "metadata": {},
   "outputs": [],
   "source": []
  }
 ],
 "metadata": {
  "kernelspec": {
   "display_name": "Python 3 (ipykernel)",
   "language": "python",
   "name": "python3"
  },
  "language_info": {
   "codemirror_mode": {
    "name": "ipython",
    "version": 3
   },
   "file_extension": ".py",
   "mimetype": "text/x-python",
   "name": "python",
   "nbconvert_exporter": "python",
   "pygments_lexer": "ipython3",
   "version": "3.9.13"
  }
 },
 "nbformat": 4,
 "nbformat_minor": 5
}
