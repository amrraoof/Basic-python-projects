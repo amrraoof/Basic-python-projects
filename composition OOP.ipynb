{
 "cells": [
  {
   "cell_type": "code",
   "execution_count": 1,
   "id": "0129ec3a",
   "metadata": {},
   "outputs": [],
   "source": [
    "class composition:\n",
    "    def __init__(self):\n",
    "        self.__Attributes = dict()\n",
    "        self.__Methods = dict()\n",
    "    \n",
    "    def AddAtribute(self,attname,attvalue):\n",
    "        self.__Attributes[Attname] = attribute\n",
    "    def delAttribute(self,attname):\n",
    "        del self.__atributes[attname]\n",
    "    \n",
    "    def setAttribute(self,attname,attvalue):\n",
    "        self.__Atributes[attname] = attvalue\n",
    "    def GetAttribute(self,Attname):\n",
    "        return self.__Attributes[attname]\n",
    "    \n",
    "    def printAllAtt(self):\n",
    "        for i in self.__Attributes:\n",
    "            print(i)\n",
    "    \n",
    "    def AddMethod(self,methodname, methodvalue):\n",
    "         self.__Methods[methodname] = methodvalue\n",
    "    def removeMethod(self,methodname):\n",
    "        del self.__Methods[methodname]\n",
    "        \n",
    "    def printAllMethods(self):\n",
    "        for i in sel.__Methods:\n",
    "            print(i)\n",
    "            \n",
    "    def callMethod (self,methodname):\n",
    "        return self.__Methods[methodname]()"
   ]
  },
  {
   "cell_type": "code",
   "execution_count": 2,
   "id": "df8b35ee",
   "metadata": {},
   "outputs": [],
   "source": [
    "def square():\n",
    "    n = int(input(\"enter the number:\"))\n",
    "    print(n**2)"
   ]
  },
  {
   "cell_type": "code",
   "execution_count": 3,
   "id": "4fdfe467",
   "metadata": {},
   "outputs": [],
   "source": [
    "y = composition()"
   ]
  },
  {
   "cell_type": "code",
   "execution_count": 4,
   "id": "731e3168",
   "metadata": {},
   "outputs": [],
   "source": [
    "y.AddMethod(\"square\",square)"
   ]
  },
  {
   "cell_type": "code",
   "execution_count": 5,
   "id": "661c393e",
   "metadata": {},
   "outputs": [
    {
     "name": "stdout",
     "output_type": "stream",
     "text": [
      "enter the number:2\n",
      "4\n"
     ]
    }
   ],
   "source": [
    "y.callMethod(\"square\")"
   ]
  },
  {
   "cell_type": "code",
   "execution_count": null,
   "id": "fc4b534b",
   "metadata": {},
   "outputs": [],
   "source": []
  }
 ],
 "metadata": {
  "kernelspec": {
   "display_name": "Python 3 (ipykernel)",
   "language": "python",
   "name": "python3"
  },
  "language_info": {
   "codemirror_mode": {
    "name": "ipython",
    "version": 3
   },
   "file_extension": ".py",
   "mimetype": "text/x-python",
   "name": "python",
   "nbconvert_exporter": "python",
   "pygments_lexer": "ipython3",
   "version": "3.9.12"
  }
 },
 "nbformat": 4,
 "nbformat_minor": 5
}
